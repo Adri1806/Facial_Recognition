{
 "cells": [
  {
   "cell_type": "code",
   "execution_count": 1,
   "metadata": {
    "pycharm": {
     "name": "#%%\n"
    }
   },
   "outputs": [],
   "source": [
    "import numpy as np\n",
    "from random import sample"
   ]
  },
  {
   "cell_type": "code",
   "execution_count": 2,
   "metadata": {
    "pycharm": {
     "name": "#%%\n"
    }
   },
   "outputs": [],
   "source": [
    "gallery_names = np.load(\"data/dataset1/npy/dataset_all_names.npy\", allow_pickle=True)\n",
    "gallery_pictures = np.load(\"data/dataset1/npy/dataset_all_pictures.npy\", allow_pickle=True)\n",
    "\n",
    "#copy for tests after splitting data\n",
    "dataset_all_names = np.load(\"data/dataset1/npy/dataset_all_names.npy\", allow_pickle=True)\n",
    "dataset_all_pictures = np.load(\"data/dataset1/npy/dataset_all_pictures.npy\", allow_pickle=True)"
   ]
  },
  {
   "cell_type": "code",
   "execution_count": 3,
   "metadata": {
    "pycharm": {
     "name": "#%%\n"
    }
   },
   "outputs": [],
   "source": [
    "probes_length = 200\n",
    "probe_id_global = sample(range(0,gallery_names.shape[0]-1), probes_length)\n",
    "probe_id_registered = probe_id_global[:int(probes_length/2)]\n",
    "probe_id_unregistered = probe_id_global[int(probes_length/2):]"
   ]
  },
  {
   "cell_type": "code",
   "execution_count": 4,
   "metadata": {
    "pycharm": {
     "name": "#%%\n"
    }
   },
   "outputs": [],
   "source": [
    "probe_registered_names = list()\n",
    "probe_registered_pictures = list()\n",
    "pictures_to_delete_from_gallery = list() # will be useful later to check if probe_register_pictures correctly created\n",
    "\n",
    "for probe_id in probe_id_registered:\n",
    "\n",
    "    probe_registered_names.append(gallery_names[probe_id])\n",
    "\n",
    "    picture_id = sample(range(0,len(gallery_pictures[probe_id])-1),1)[0]\n",
    "    pictures_to_delete_from_gallery.append((probe_id, picture_id))\n",
    "\n",
    "    probe_registered_pictures.append(gallery_pictures[probe_id][picture_id])\n",
    "    gallery_pictures[probe_id] = np.delete(gallery_pictures[probe_id], [picture_id], axis=0)\n",
    "\n",
    "#converting python lists into numpy arrays\n",
    "probe_registered_names = np.array(probe_registered_names)\n",
    "probe_registered_pictures = np.array(probe_registered_pictures)"
   ]
  },
  {
   "cell_type": "code",
   "execution_count": 5,
   "metadata": {
    "pycharm": {
     "name": "#%%\n"
    }
   },
   "outputs": [],
   "source": [
    "#test to see if probe_register names and pictures well created\n",
    "for i, (current_id, picture_id) in enumerate(pictures_to_delete_from_gallery):\n",
    "\n",
    "    #check if one picture is correctly deleted for the current person in the gallery\n",
    "    if len(gallery_pictures[current_id])+1 != len(dataset_all_pictures[current_id]):\n",
    "        print(f\"{gallery_names[current_id]} -> wrong pictures number after putting in probe registered\")\n",
    "\n",
    "    #check if the right picture is placed in probe_registered_pictures\n",
    "    if not(np.array_equal(probe_registered_pictures[i], dataset_all_pictures[current_id][picture_id])):\n",
    "        print(f'{probe_registered_names[i]} -> wrong picture copied')\n",
    "\n",
    "    #check if the picture placed in probe_registered_pictures is the one deleted\n",
    "    if np.array_equal(gallery_pictures[current_id][picture_id],dataset_all_pictures[current_id][picture_id]):\n",
    "        print(f\"{probe_registered_names[i]} -> wrong picture deleted in gallery\")\n"
   ]
  },
  {
   "cell_type": "code",
   "execution_count": 6,
   "metadata": {
    "pycharm": {
     "name": "#%%\n"
    }
   },
   "outputs": [],
   "source": [
    "probe_unregistered_names = list()\n",
    "probe_unregistered_pictures = list()\n",
    "people_to_delete_from_gallery = list()\n",
    "\n",
    "for probe_id in probe_id_unregistered:\n",
    "\n",
    "    probe_unregistered_names.append(gallery_names[probe_id])\n",
    "\n",
    "    picture_id = sample(range(0,len(gallery_pictures[probe_id])-1),1)[0]\n",
    "    people_to_delete_from_gallery.append((probe_id, gallery_names[probe_id]))\n",
    "\n",
    "    probe_unregistered_pictures.append(gallery_pictures[probe_id][picture_id])\n",
    "\n",
    "#converting python lists into numpy arrays\n",
    "probe_unregistered_names = np.array(probe_unregistered_names)\n",
    "probe_unregistered_pictures = np.array(probe_unregistered_pictures)\n",
    "\n",
    "#removing the unregistered elements and their pictures\n",
    "gallery_names = np.delete(gallery_names, probe_id_unregistered)\n",
    "gallery_pictures = np.delete(gallery_pictures, probe_id_unregistered)\n"
   ]
  },
  {
   "cell_type": "code",
   "execution_count": 7,
   "metadata": {
    "pycharm": {
     "name": "#%%\n"
    }
   },
   "outputs": [],
   "source": [
    "#test to see if probe_unregister names and pictures well created\n",
    "for i, (current_id, current_name) in enumerate(people_to_delete_from_gallery):\n",
    "\n",
    "    #check if all the names are removed\n",
    "    if current_name in gallery_names:\n",
    "        print(f'{current_name} not deleted from gallery')\n",
    "    #check if all probes correctly added\n",
    "    if current_name not in probe_unregistered_names:\n",
    "        print(f'{current_name} not in probes unregister')\n",
    "\n",
    "    if gallery_pictures.shape[0] != dataset_all_pictures.shape[0] - probes_length/2:\n",
    "        print(f'Not the correct number of element in pictures gallery')\n"
   ]
  },
  {
   "cell_type": "code",
   "execution_count": 8,
   "metadata": {
    "pycharm": {
     "name": "#%%\n"
    }
   },
   "outputs": [],
   "source": [
    "#saving probes and gallery offline\n",
    "\n",
    "# #gallery\n",
    "# np.save(f'data/dataset1/npy/gallery_names.npy', gallery_names)\n",
    "# np.save(f'data/dataset1/npy/gallery_pictures.npy', gallery_pictures)\n",
    "#\n",
    "# #registered probes\n",
    "# np.save(f'data/dataset1/npy/probe_registered_names.npy', probe_registered_names)\n",
    "# np.save(f'data/dataset1/npy/probe_registered_pictures.npy', probe_registered_pictures)\n",
    "#\n",
    "# #unregistered probes\n",
    "# np.save(f'data/dataset1/npy/probe_unregistered_names.npy', probe_unregistered_names)\n",
    "# np.save(f'data/dataset1/npy/probe_unregistered_pictures.npy', probe_unregistered_pictures)"
   ]
  }
 ],
 "metadata": {
  "kernelspec": {
   "display_name": "PyCharm (scientificProject)",
   "language": "python",
   "name": "pycharm-b574e03b"
  },
  "language_info": {
   "codemirror_mode": {
    "name": "ipython",
    "version": 3
   },
   "file_extension": ".py",
   "mimetype": "text/x-python",
   "name": "python",
   "nbconvert_exporter": "python",
   "pygments_lexer": "ipython3",
   "version": "3.8.5"
  }
 },
 "nbformat": 4,
 "nbformat_minor": 1
}