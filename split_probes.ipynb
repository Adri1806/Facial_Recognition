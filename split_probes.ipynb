{
 "cells": [
  {
   "cell_type": "code",
   "execution_count": 1,
   "outputs": [],
   "source": [
    "import numpy as np\n",
    "from random import sample"
   ],
   "metadata": {
    "collapsed": false,
    "pycharm": {
     "name": "#%%\n"
    }
   }
  },
  {
   "cell_type": "code",
   "execution_count": 2,
   "outputs": [],
   "source": [
    "dataset_all_names = np.load(\"data/dataset1/npy/dataset_all_names.npy\", allow_pickle=True)\n",
    "dataset_all_pictures = np.load(\"data/dataset1/npy/dataset_all_pictures.npy\", allow_pickle=True)\n",
    "\n",
    "copy_names = np.load(\"data/dataset1/npy/dataset_all_names.npy\", allow_pickle=True)\n",
    "copy_pictures = np.load(\"data/dataset1/npy/dataset_all_pictures.npy\", allow_pickle=True)"
   ],
   "metadata": {
    "collapsed": false,
    "pycharm": {
     "name": "#%%\n"
    }
   }
  },
  {
   "cell_type": "code",
   "execution_count": 3,
   "outputs": [],
   "source": [
    "probe_id_global = sample(range(0,dataset_all_names.shape[0]-1),200)\n",
    "probe_id_registered = probe_id_global[:100]\n",
    "probe_id_unregistered = probe_id_global[100:]"
   ],
   "metadata": {
    "collapsed": false,
    "pycharm": {
     "name": "#%%\n"
    }
   }
  },
  {
   "cell_type": "code",
   "execution_count": 4,
   "outputs": [],
   "source": [
    "probe_registered_names = list()\n",
    "probe_registered_pictures = list()\n",
    "pictures_to_delete_from_gallery = list()\n",
    "\n",
    "for probe_id in probe_id_registered:\n",
    "\n",
    "    probe_registered_names.append(dataset_all_names[probe_id])\n",
    "\n",
    "    picture_id = sample(range(0,len(dataset_all_pictures[probe_id])-1),1)[0]\n",
    "    pictures_to_delete_from_gallery.append((probe_id, picture_id))\n",
    "\n",
    "    probe_registered_pictures.append(dataset_all_pictures[probe_id][picture_id])"
   ],
   "metadata": {
    "collapsed": false,
    "pycharm": {
     "name": "#%%\n"
    }
   }
  },
  {
   "cell_type": "code",
   "execution_count": 5,
   "outputs": [],
   "source": [
    "probe_unregistered_names = list()\n",
    "probe_unregistered_pictures = list()\n",
    "\n",
    "for probe_id in probe_id_unregistered:\n",
    "\n",
    "    probe_unregistered_names.append(dataset_all_names[probe_id])\n",
    "\n",
    "    picture_id = sample(range(0,len(dataset_all_pictures[probe_id])-1),1)[0]\n",
    "    probe_unregistered_pictures.append(dataset_all_pictures[probe_id][picture_id])\n"
   ],
   "metadata": {
    "collapsed": false,
    "pycharm": {
     "name": "#%%\n"
    }
   }
  },
  {
   "cell_type": "code",
   "execution_count": 6,
   "outputs": [],
   "source": [
    "#suppression de la picture des probes register\n",
    "tmp_list = list()\n",
    "\n",
    "\n",
    "for id_probe, id_picture in pictures_to_delete_from_gallery:\n",
    "    # print(id_probe, id_picture)\n",
    "    tmp = np.delete(dataset_all_pictures[id_probe], [id_picture], axis=0)\n",
    "    dataset_all_pictures[id_probe] = tmp\n"
   ],
   "metadata": {
    "collapsed": false,
    "pycharm": {
     "name": "#%%\n"
    }
   }
  },
  {
   "cell_type": "code",
   "execution_count": 7,
   "outputs": [],
   "source": [
    "# A = np.array([[[1,2],[3,4]], [[5,6], [7,8]], [[9,10],[11,12]], [[13,14],[15,16]]])\n",
    "# print(A)\n",
    "# print(\"-----\")\n",
    "# B = np.delete(A, 0, axis=0)\n",
    "# print(B)"
   ],
   "metadata": {
    "collapsed": false,
    "pycharm": {
     "name": "#%%\n"
    }
   }
  },
  {
   "cell_type": "code",
   "execution_count": 8,
   "outputs": [],
   "source": [
    "# dataset_all_names = np.delete(dataset_all_names, probe_id_unregistered)\n",
    "# dataset_all_pictures = np.delete(dataset_all_pictures, probe_id_unregistered)"
   ],
   "metadata": {
    "collapsed": false,
    "pycharm": {
     "name": "#%%\n"
    }
   }
  }
 ],
 "metadata": {
  "kernelspec": {
   "name": "pycharm-b574e03b",
   "language": "python",
   "display_name": "PyCharm (scientificProject)"
  },
  "language_info": {
   "codemirror_mode": {
    "name": "ipython",
    "version": 2
   },
   "file_extension": ".py",
   "mimetype": "text/x-python",
   "name": "python",
   "nbconvert_exporter": "python",
   "pygments_lexer": "ipython2",
   "version": "2.7.6"
  }
 },
 "nbformat": 4,
 "nbformat_minor": 0
}