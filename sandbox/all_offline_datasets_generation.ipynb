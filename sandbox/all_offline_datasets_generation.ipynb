{
 "cells": [
  {
   "cell_type": "code",
   "execution_count": 6,
   "metadata": {
    "collapsed": true
   },
   "outputs": [],
   "source": [
    "from eigenface_generator import EigenfaceGenerator\n",
    "from gallery_probes_generator import GalleryProbesGenerator"
   ]
  },
  {
   "cell_type": "code",
   "execution_count": 7,
   "outputs": [],
   "source": [
    "path_to_datasets = ['data/dataset1/', 'data/dataset2/']\n",
    "\n",
    "for path in path_to_datasets:\n",
    "    data_generator = GalleryProbesGenerator(path_to_dataset=path, probes_length=200)\n",
    "    data_generator.generate_npy_files()\n",
    "\n",
    "    eigenfacegenerator = EigenfaceGenerator(data_generator=data_generator, components=500)\n",
    "    eigenfacegenerator.generate_npy_files()"
   ],
   "metadata": {
    "collapsed": false,
    "pycharm": {
     "name": "#%%\n"
    }
   }
  }
 ],
 "metadata": {
  "kernelspec": {
   "name": "pycharm-b574e03b",
   "language": "python",
   "display_name": "PyCharm (scientificProject)"
  },
  "language_info": {
   "codemirror_mode": {
    "name": "ipython",
    "version": 2
   },
   "file_extension": ".py",
   "mimetype": "text/x-python",
   "name": "python",
   "nbconvert_exporter": "python",
   "pygments_lexer": "ipython2",
   "version": "2.7.6"
  }
 },
 "nbformat": 4,
 "nbformat_minor": 0
}