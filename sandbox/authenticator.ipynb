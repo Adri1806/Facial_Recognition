{
 "cells": [
  {
   "cell_type": "code",
   "execution_count": 1,
   "metadata": {
    "collapsed": true
   },
   "outputs": [],
   "source": [
    "from gallery_probes_generator import GalleryProbesGenerator\n",
    "from eigenface_generator import EigenfaceGenerator\n",
    "import numpy as np\n",
    "import matplotlib.pyplot as plt"
   ]
  },
  {
   "cell_type": "code",
   "execution_count": 2,
   "outputs": [],
   "source": [
    "norms = { \"L1\":lambda x: np.sum(np.abs(x)),\n",
    "\t  \"L2\":lambda x: np.sum(x**2),\n",
    "\t  \"inf\":lambda x: np.max(np.abs(x))\n",
    "\t}\n",
    "\n",
    "def compute_distances_individual(data, query, norm=\"L2\"):\n",
    "\t\"\"\" Compute distances.\n",
    "\n",
    "\tComputes the distances between the vectors (rows) of a dataset and a\n",
    "\tsingle query). Three distances are supported:\n",
    "\t  * Manhattan distance (\"L1\");\n",
    "\t  * squared Euclidean distance (\"L2\");\n",
    "\t  * Chebyshev distance (\"inf\").\n",
    "\n",
    "\t:param data: Dataset matrix with samples as rows.\n",
    "\t:param query: Query vector\n",
    "\t:type data: (n,d)-sized Numpy array of floats\n",
    "\t:type query: (d)-sized Numpy array of floats\n",
    "\n",
    "\t:result: The distances of the data vectors to the query.\n",
    "\t:rtype: (n)-sized Numpy array of floats\n",
    "\t\"\"\"\n",
    "\tnorm_function = norms[norm]\n",
    "\tdistances = np.zeros((len(data),), dtype=np.float32)\n",
    "\tfor i, d in enumerate(data):\n",
    "\t\tdistances[i] = norm_function(d-query)\n",
    "\treturn distances\n",
    "\n",
    "def compute_distance(gallery_pictures, probe_pictures, norm='L2'):\n",
    "    total_array_distance = np.zeros(dtype=object, shape=200)\n",
    "    for i, pic, in enumerate(probe_pictures):\n",
    "        total_array_q = np.zeros(dtype=object, shape=273)\n",
    "        for j, n in enumerate(gallery_pictures):\n",
    "            total_array_q[j] = compute_distances_individual(n,pic)\n",
    "            total_array_distance[i] = total_array_q\n",
    "    return total_array_distance\n",
    "\n",
    "def radius_search_bruteforce(data, q, radius, norm = 'L2'):\n",
    "    distance_matrix = compute_distance(data, q, norm)\n",
    "    res_all_probe = np.zeros(dtype=object, shape=200)\n",
    "    for i, row in enumerate(distance_matrix):\n",
    "        id_list = []\n",
    "        for j, second_row in enumerate(row):\n",
    "            for k, element in enumerate(second_row):\n",
    "                if element <= radius:\n",
    "                    id_list.append((j,k,element))\n",
    "        res_all_probe[i] = id_list\n",
    "    return res_all_probe\n",
    "\n",
    "from math import sqrt\n",
    "\n",
    "def radius_opti(data):\n",
    "    mean_total_list = []\n",
    "    for i, row in enumerate(data):\n",
    "        mean_row_list = []\n",
    "        for j, element in enumerate(row):\n",
    "            tmp = row\n",
    "            mean_row_list.append(np.mean(compute_distances_individual(np.delete(tmp, j, axis=0), element)))\n",
    "        mean_row = np.mean(mean_row_list)\n",
    "        mean_total_list.append(mean_row)\n",
    "    mean_total = np.mean(mean_total_list)#moyenne de distance entre deux photos d'une meme pers\n",
    "    std_total = sqrt(np.var(mean_total_list))#ecart type\n",
    "    return mean_total + std_total #radius opti\n"
   ],
   "metadata": {
    "collapsed": false,
    "pycharm": {
     "name": "#%%\n"
    }
   }
  },
  {
   "cell_type": "code",
   "execution_count": 3,
   "outputs": [],
   "source": [
    "data_generator = GalleryProbesGenerator(path_to_dataset='data/dataset1/', probes_length=200)\n",
    "\n",
    "gallery_names, gallery_pictures = data_generator.get_gallery()\n",
    "probe_names, probe_pictures = data_generator.get_merged_probes()\n",
    "ground_truth = data_generator.get_ground_truth()\n",
    "\n",
    "# radius = radius_opti(gallery_pictures)\n",
    "radius = 1970000"
   ],
   "metadata": {
    "collapsed": false,
    "pycharm": {
     "name": "#%%\n"
    }
   }
  },
  {
   "cell_type": "code",
   "execution_count": 4,
   "outputs": [],
   "source": [
    "def authenticate(probe_image, gallery_images):\n",
    "    search_among_gallery = radius_search_bruteforce(data=gallery_images, q=probe_image, radius=radius)\n",
    "    result = (False, None)\n",
    "    if len(search_among_gallery)>0: # At least one neighbor found -> authentication accepted\n",
    "        id_neighbors_found = list()\n",
    "        for element in search_among_gallery:\n",
    "            if element[0] not in id_neighbors_found:\n",
    "                id_neighbors_found.append(element[0])\n",
    "        result = (True, np.array(id_neighbors_found))\n",
    "    return result"
   ],
   "metadata": {
    "collapsed": false,
    "pycharm": {
     "name": "#%%\n"
    }
   }
  },
  {
   "cell_type": "code",
   "execution_count": 5,
   "outputs": [],
   "source": [
    "def authenticate_all_probes(gallery_images, probes_images):\n",
    "    results_tests_probes = list()\n",
    "    for probe_image in probes_images:\n",
    "        results_tests_probes.append(authenticate(probe_image, gallery_images))\n",
    "    return np.array(results_tests_probes)"
   ],
   "metadata": {
    "collapsed": false,
    "pycharm": {
     "name": "#%%\n"
    }
   }
  },
  {
   "cell_type": "code",
   "execution_count": null,
   "outputs": [],
   "source": [
    "result_probes_authentication = authenticate_all_probes(gallery_pictures, probe_pictures)\n",
    "\n",
    "def compute_metrics(result_probes_authentication, ground_truth):\n",
    "    TP = 0\n",
    "    FP = 0\n",
    "    TN = 0\n",
    "    FN = 0\n",
    "\n",
    "    for i, probe_authentication in enumerate(result_probes_authentication):\n",
    "        #True positive : access authorized for a registered person\n",
    "        if probe_authentication[0] == True and ground_truth[i][0] in probe_authentication[1]:\n",
    "            TP += 1\n",
    "\n",
    "        #False positive : access authorized for an unregistered person\n",
    "        if probe_authentication[0] == True and ground_truth[i][0] not in probe_authentication[1]:\n",
    "            FP += 1\n",
    "\n",
    "        #True negative : access denied for an unregistered person\n",
    "        if probe_authentication[0] == False and ground_truth[i][0] == False:\n",
    "            TN += 1\n",
    "\n",
    "        #False negative : access denied for a registered person\n",
    "        if probe_authentication[0] == False and ground_truth[i][0] == True:\n",
    "            FN +=1\n",
    "\n",
    "    accuracy = (TP + TN) / (TP + TN + FP + FN)\n",
    "    precision = TP / (TP + FP)\n",
    "    recall = TP / (TP + FN)\n",
    "    specificity = TN / (TN + FP)\n",
    "\n",
    "    return accuracy, precision, recall, specificity"
   ],
   "metadata": {
    "collapsed": false,
    "pycharm": {
     "name": "#%%\n"
    }
   }
  }
 ],
 "metadata": {
  "kernelspec": {
   "name": "pycharm-b574e03b",
   "language": "python",
   "display_name": "PyCharm (scientificProject)"
  },
  "language_info": {
   "codemirror_mode": {
    "name": "ipython",
    "version": 2
   },
   "file_extension": ".py",
   "mimetype": "text/x-python",
   "name": "python",
   "nbconvert_exporter": "python",
   "pygments_lexer": "ipython2",
   "version": "2.7.6"
  }
 },
 "nbformat": 4,
 "nbformat_minor": 0
}