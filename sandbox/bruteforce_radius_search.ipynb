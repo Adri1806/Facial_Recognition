{
 "cells": [
  {
   "cell_type": "code",
   "execution_count": 9,
   "metadata": {},
   "outputs": [],
   "source": [
    "import numpy as np\n",
    "from gallery_probes_generator import GalleryProbesGenerator"
   ]
  },
  {
   "cell_type": "code",
   "execution_count": 10,
   "metadata": {
    "pycharm": {
     "name": "#%%\n"
    }
   },
   "outputs": [
    {
     "ename": "Exception",
     "evalue": "gallery_names.npy does not exist, please call _generate_gallery_probes() first.",
     "output_type": "error",
     "traceback": [
      "\u001B[1;31m---------------------------------------------------------------------------\u001B[0m",
      "\u001B[1;31mException\u001B[0m                                 Traceback (most recent call last)",
      "\u001B[1;32m<ipython-input-10-112f0bd304ca>\u001B[0m in \u001B[0;36m<module>\u001B[1;34m\u001B[0m\n\u001B[0;32m      1\u001B[0m \u001B[0mdata_generator\u001B[0m \u001B[1;33m=\u001B[0m \u001B[0mGalleryProbesGenerator\u001B[0m\u001B[1;33m(\u001B[0m\u001B[0mpath_to_dataset\u001B[0m\u001B[1;33m=\u001B[0m\u001B[1;34m'data/dataset1/'\u001B[0m\u001B[1;33m,\u001B[0m \u001B[0mprobes_length\u001B[0m\u001B[1;33m=\u001B[0m\u001B[1;36m200\u001B[0m\u001B[1;33m)\u001B[0m\u001B[1;33m\u001B[0m\u001B[1;33m\u001B[0m\u001B[0m\n\u001B[0;32m      2\u001B[0m \u001B[1;33m\u001B[0m\u001B[0m\n\u001B[1;32m----> 3\u001B[1;33m \u001B[0mgallery_names\u001B[0m\u001B[1;33m,\u001B[0m \u001B[0mgallery_pictures\u001B[0m \u001B[1;33m=\u001B[0m \u001B[0mdata_generator\u001B[0m\u001B[1;33m.\u001B[0m\u001B[0mget_gallery\u001B[0m\u001B[1;33m(\u001B[0m\u001B[1;33m)\u001B[0m\u001B[1;33m\u001B[0m\u001B[1;33m\u001B[0m\u001B[0m\n\u001B[0m\u001B[0;32m      4\u001B[0m \u001B[0mprobe_names\u001B[0m\u001B[1;33m,\u001B[0m \u001B[0mprobe_pictures\u001B[0m \u001B[1;33m=\u001B[0m \u001B[0mdata_generator\u001B[0m\u001B[1;33m.\u001B[0m\u001B[0mget_merged_probes\u001B[0m\u001B[1;33m(\u001B[0m\u001B[1;33m)\u001B[0m \u001B[1;31m#changer qd la methode get_probe_total ready\u001B[0m\u001B[1;33m\u001B[0m\u001B[1;33m\u001B[0m\u001B[0m\n\u001B[0;32m      5\u001B[0m \u001B[1;33m\u001B[0m\u001B[0m\n",
      "\u001B[1;32mD:\\Documents\\Travail\\INGE2\\odata\\PROJET ODATA\\reconnaissance faciale\\gallery_probes_generator.py\u001B[0m in \u001B[0;36mget_gallery\u001B[1;34m(self)\u001B[0m\n\u001B[0;32m    186\u001B[0m \u001B[1;33m\u001B[0m\u001B[0m\n\u001B[0;32m    187\u001B[0m         \u001B[1;32mif\u001B[0m \u001B[1;32mnot\u001B[0m \u001B[1;33m(\u001B[0m\u001B[0mos\u001B[0m\u001B[1;33m.\u001B[0m\u001B[0mpath\u001B[0m\u001B[1;33m.\u001B[0m\u001B[0mexists\u001B[0m\u001B[1;33m(\u001B[0m\u001B[0mself\u001B[0m\u001B[1;33m.\u001B[0m\u001B[0mpath_dataset_npy\u001B[0m \u001B[1;33m+\u001B[0m \u001B[1;34m\"/gallery_names.npy\"\u001B[0m\u001B[1;33m)\u001B[0m\u001B[1;33m)\u001B[0m\u001B[1;33m:\u001B[0m\u001B[1;33m\u001B[0m\u001B[1;33m\u001B[0m\u001B[0m\n\u001B[1;32m--> 188\u001B[1;33m             \u001B[1;32mraise\u001B[0m \u001B[0mException\u001B[0m\u001B[1;33m(\u001B[0m\u001B[1;34m\"gallery_names.npy does not exist, please call _generate_gallery_probes() first.\"\u001B[0m\u001B[1;33m)\u001B[0m\u001B[1;33m\u001B[0m\u001B[1;33m\u001B[0m\u001B[0m\n\u001B[0m\u001B[0;32m    189\u001B[0m \u001B[1;33m\u001B[0m\u001B[0m\n\u001B[0;32m    190\u001B[0m         \u001B[1;32mif\u001B[0m \u001B[1;32mnot\u001B[0m \u001B[1;33m(\u001B[0m\u001B[0mos\u001B[0m\u001B[1;33m.\u001B[0m\u001B[0mpath\u001B[0m\u001B[1;33m.\u001B[0m\u001B[0mexists\u001B[0m\u001B[1;33m(\u001B[0m\u001B[0mself\u001B[0m\u001B[1;33m.\u001B[0m\u001B[0mpath_dataset_npy\u001B[0m \u001B[1;33m+\u001B[0m \u001B[1;34m\"/gallery_pictures.npy\"\u001B[0m\u001B[1;33m)\u001B[0m\u001B[1;33m)\u001B[0m\u001B[1;33m:\u001B[0m\u001B[1;33m\u001B[0m\u001B[1;33m\u001B[0m\u001B[0m\n",
      "\u001B[1;31mException\u001B[0m: gallery_names.npy does not exist, please call _generate_gallery_probes() first."
     ]
    }
   ],
   "source": [
    "data_generator = GalleryProbesGenerator(path_to_dataset='data/dataset1/', probes_length=200)\n",
    "\n",
    "gallery_names, gallery_pictures = data_generator.get_gallery()\n",
    "probe_names, probe_pictures = data_generator.get_merged_probes() #changer qd la methode get_probe_total ready\n"
   ]
  },
  {
   "cell_type": "code",
   "execution_count": null,
   "metadata": {
    "pycharm": {
     "name": "#%%\n"
    }
   },
   "outputs": [],
   "source": [
    "norms = { \"L1\":lambda x: np.sum(np.abs(x)),\n",
    "\t  \"L2\":lambda x: np.sum(x**2),\n",
    "\t  \"inf\":lambda x: np.max(np.abs(x))\n",
    "\t}\n",
    "\n",
    "def compute_distances_individual(data, query, norm=\"L2\"):\n",
    "\t\"\"\" Compute distances.\n",
    "\n",
    "\tComputes the distances between the vectors (rows) of a dataset and a\n",
    "\tsingle query). Three distances are supported:\n",
    "\t  * Manhattan distance (\"L1\");\n",
    "\t  * squared Euclidean distance (\"L2\");\n",
    "\t  * Chebyshev distance (\"inf\").\n",
    "\n",
    "\t:param data: Dataset matrix with samples as rows.\n",
    "\t:param query: Query vector\n",
    "\t:type data: (n,d)-sized Numpy array of floats\n",
    "\t:type query: (d)-sized Numpy array of floats\n",
    "\n",
    "\t:result: The distances of the data vectors to the query.\n",
    "\t:rtype: (n)-sized Numpy array of floats\n",
    "\t\"\"\"\n",
    "\tnorm_function = norms[norm]\n",
    "\tdistances = np.zeros((len(data),), dtype=np.float32)\n",
    "\tfor i, d in enumerate(data):\n",
    "\t\tdistances[i] = norm_function(d-query)\n",
    "\treturn distances\n",
    "\n",
    "def compute_distance(gallery_pictures, probe_pictures, norm='L2'):\n",
    "    total_array_distance = np.zeros(dtype=object, shape=200)\n",
    "    for i, pic, in enumerate(probe_pictures):\n",
    "        total_array_q = np.zeros(dtype=object, shape=273)\n",
    "        for j, n in enumerate(gallery_pictures):\n",
    "            total_array_q[j] = compute_distances_individual(n,pic)\n",
    "            total_array_distance[i] = total_array_q\n",
    "    return total_array_distance"
   ]
  },
  {
   "cell_type": "code",
   "execution_count": null,
   "metadata": {
    "pycharm": {
     "name": "#%%\n"
    }
   },
   "outputs": [],
   "source": [
    "#test\n",
    "id_probe = 0\n",
    "id_gallery = 0\n",
    "probe_pictures_q = probe_pictures[id_probe]\n",
    "print(probe_names[id_probe])\n",
    "\n",
    "gallery_pictures_list = gallery_pictures[id_gallery]\n",
    "print(gallery_names[id_gallery])\n",
    "\n",
    "distance_test = compute_distances_individual(gallery_pictures_list,probe_pictures_q)\n",
    "print(f\"moyenne main:{np.mean(distance_test)}\")\n",
    "print(distance_test)"
   ]
  },
  {
   "cell_type": "code",
   "execution_count": null,
   "metadata": {
    "pycharm": {
     "name": "#%%\n"
    },
    "scrolled": true
   },
   "outputs": [],
   "source": [
    "#distance = compute_distance(gallery_pictures,probe_pictures)\n",
    "#print(distance.shape)"
   ]
  },
  {
   "cell_type": "code",
   "execution_count": null,
   "outputs": [],
   "source": [
    "def radius_search_bruteforce(data, q, radius, norm = 'L2'):\n",
    "    distance_matrix = compute_distance(data, q, norm)\n",
    "    res_all_probe = np.zeros(dtype=object, shape=200)\n",
    "    for i, row in enumerate(distance_matrix):\n",
    "        id_list = []\n",
    "        for j, second_row in enumerate(row):\n",
    "            for k, element in enumerate(second_row):\n",
    "                if element <= radius:\n",
    "                    id_list.append((j,k,element))\n",
    "        res_all_probe[i] = id_list\n",
    "    return res_all_probe"
   ],
   "metadata": {
    "collapsed": false,
    "pycharm": {
     "name": "#%%\n"
    }
   }
  },
  {
   "cell_type": "code",
   "execution_count": null,
   "outputs": [],
   "source": [
    "resultat = radius_search_bruteforce(gallery_pictures, probe_pictures,1900000)\n",
    "print(resultat)"
   ],
   "metadata": {
    "collapsed": false,
    "pycharm": {
     "name": "#%%\n"
    }
   }
  },
  {
   "cell_type": "code",
   "execution_count": null,
   "outputs": [],
   "source": [
    "#test\n",
    "i=0\n",
    "tableau_150_total = np.zeros(dtype=object,shape=10)\n",
    "tableau_linear_total = np.zeros(dtype=object, shape=10)\n",
    "while i<10:\n",
    "    tableau_150_total[i] = np.random.rand(150,150)\n",
    "    tableau_linear_total[i] = np.random.rand(1,100)\n",
    "    i=i+1\n",
    "tableau_150_probe = np.random.rand(150,150)\n",
    "tableau_linear_probe = np.random.rand(1,100)\n",
    "\n",
    "resultat_150 = compute_distances_individual(tableau_150_total,tableau_150_probe)\n",
    "resultat_linear = compute_distances_individual(tableau_linear_total,tableau_linear_probe)\n"
   ],
   "metadata": {
    "collapsed": false,
    "pycharm": {
     "name": "#%%\n"
    }
   }
  },
  {
   "cell_type": "code",
   "execution_count": null,
   "outputs": [],
   "source": [
    "def search_index_in_gallery(data, name):\n",
    "    id_in_gallery = None\n",
    "    for i, element in enumerate(data):\n",
    "        if name == element:\n",
    "            id_in_gallery = i\n",
    "    return id_in_gallery"
   ],
   "metadata": {
    "collapsed": false,
    "pycharm": {
     "name": "#%%\n"
    }
   }
  },
  {
   "cell_type": "code",
   "execution_count": null,
   "outputs": [],
   "source": [
    "import matplotlib.pyplot as plt\n",
    "\n",
    "\n",
    "print(probe_names[22])\n",
    "index = search_index_in_gallery((gallery_names),probe_names[22])\n",
    "print(index)\n",
    "\n",
    "probe_face = plt.imshow(probe_pictures[22],cmap=\"gray\")\n",
    "plt.show()\n",
    "gallery_gallery = plt.imshow(gallery_pictures[index][0],cmap=\"gray\")\n",
    "plt.show()\n"
   ],
   "metadata": {
    "collapsed": false,
    "pycharm": {
     "name": "#%%\n"
    }
   }
  },
  {
   "cell_type": "code",
   "execution_count": null,
   "outputs": [],
   "source": [
    "gallery_pictures_eigen_face = np.load(\"data/dataset1/eigen_faces_npy/gallery_pictures_eigenface.npy\", allow_pickle=True)\n",
    "probe_pictures_eigen_face = np.load(\"data/dataset1/eigen_faces_npy/probes_merged_pictures_eigenface.npy\", allow_pickle=True)\n",
    "resultat_eigen = radius_search_bruteforce(gallery_pictures_eigen_face, probe_pictures_eigen_face, 18000000)\n",
    "print(resultat_eigen)"
   ],
   "metadata": {
    "collapsed": false,
    "pycharm": {
     "name": "#%%\n"
    }
   }
  },
  {
   "cell_type": "code",
   "execution_count": null,
   "outputs": [],
   "source": [
    "print(probe_names[22])\n",
    "index = search_index_in_gallery(gallery_names,probe_names[22])\n",
    "print(index)\n",
    "distance = compute_distances_individual(gallery_pictures_eigen_face[index], probe_pictures_eigen_face[22])\n",
    "print(distance)\n",
    "probe_face = plt.imshow(probe_pictures[22],cmap=\"gray\")\n",
    "plt.show()\n",
    "gallery_face_gallery = plt.imshow(gallery_pictures[index][0],cmap=\"gray\")\n",
    "plt.show()\n",
    "print(distance.mean())"
   ],
   "metadata": {
    "collapsed": false,
    "pycharm": {
     "name": "#%%\n"
    }
   }
  },
  {
   "cell_type": "code",
   "execution_count": null,
   "outputs": [],
   "source": [
    "print(probe_names[50])\n",
    "index2 = search_index_in_gallery(gallery_names,probe_names[50])\n",
    "print(index)\n",
    "distance2 = compute_distances_individual(gallery_pictures_eigen_face[index2], probe_pictures_eigen_face[50])\n",
    "print(distance2)\n",
    "probe_face = plt.imshow(probe_pictures[50],cmap=\"gray\")\n",
    "plt.show()\n",
    "gallery_face_gallery = plt.imshow(gallery_pictures[index2][0],cmap=\"gray\")\n",
    "plt.show()\n",
    "print(distance2.mean())"
   ],
   "metadata": {
    "collapsed": false,
    "pycharm": {
     "name": "#%%\n"
    }
   }
  },
  {
   "cell_type": "code",
   "execution_count": null,
   "outputs": [],
   "source": [
    "print(probe_names[150])\n",
    "distance3 = compute_distances_individual(gallery_pictures_eigen_face[50], probe_pictures_eigen_face[150])\n",
    "print(distance3)\n",
    "probe_face = plt.imshow(probe_pictures[150],cmap=\"gray\")\n",
    "plt.show()\n",
    "gallery_face_gallery = plt.imshow(gallery_pictures[50][0],cmap=\"gray\")\n",
    "plt.show()\n",
    "print(distance3.mean())"
   ],
   "metadata": {
    "collapsed": false,
    "pycharm": {
     "name": "#%%\n"
    }
   }
  },
  {
   "cell_type": "code",
   "execution_count": null,
   "outputs": [],
   "source": [
    "print(resultat_eigen[0:100])\n",
    "print(\"separation\")\n",
    "print(resultat_eigen[100:200])"
   ],
   "metadata": {
    "collapsed": false,
    "pycharm": {
     "name": "#%%\n"
    }
   }
  },
  {
   "cell_type": "code",
   "execution_count": null,
   "outputs": [],
   "source": [
    "#test adri\n",
    "import matplotlib.image as mpimg\n",
    "import matplotlib.pyplot as plt\n",
    "\n",
    "adri_total = []\n",
    "adri = mpimg.imread(f'data/dataset1/adri.2.jpg')\n",
    "adri_total.append(adri)\n",
    "\n",
    "print(\"photo entrée : \")\n",
    "adri_face = plt.imshow(adri_total[0],cmap=\"gray\")\n",
    "plt.show()\n",
    "distance = compute_distance(gallery_pictures, adri_total)\n",
    "#print(distance)\n",
    "#resultat_adri = radius_search_bruteforce(gallery_pictures, adri_total, 1900000)"
   ],
   "metadata": {
    "collapsed": false,
    "pycharm": {
     "name": "#%%\n"
    }
   }
  },
  {
   "cell_type": "code",
   "execution_count": null,
   "outputs": [],
   "source": [
    "from math import sqrt\n",
    "\n",
    "def radius_opti(data):\n",
    "    mean_total_list = []\n",
    "    for i, row in enumerate(data):\n",
    "        mean_row_list = []\n",
    "        for j, element in enumerate(row):\n",
    "            tmp = row\n",
    "            mean_row_list.append(np.mean(compute_distances_individual(np.delete(tmp, j, axis=0), element)))\n",
    "        mean_row = np.mean(mean_row_list)\n",
    "        mean_total_list.append(mean_row)\n",
    "    mean_total = np.mean(mean_total_list)#moyenne de distance entre deux photos d'une meme pers\n",
    "    std_total = sqrt(np.var(mean_total_list))#ecart type\n",
    "    return mean_total + std_total #radius opti"
   ],
   "metadata": {
    "collapsed": false,
    "pycharm": {
     "name": "#%%\n"
    }
   }
  },
  {
   "cell_type": "code",
   "execution_count": null,
   "outputs": [],
   "source": [
    "from math import sqrt\n",
    "\n",
    "norms = {\"L1\": lambda x: np.sum(np.abs(x)),\n",
    "         \"L2\": lambda x: np.sum(x ** 2),\n",
    "         \"inf\": lambda x: np.max(np.abs(x))\n",
    "         }\n",
    "\n",
    "\n",
    "def compute_distance_1d(data, query, norm=\"L2\"):\n",
    "    \"\"\"Compute distances.\n",
    "\tComputes the distances between the vectors (rows) of a dataset and a\n",
    "\tsingle query). Three distances are supported:\n",
    "\t  * Manhattan distance (\"L1\");\n",
    "\t  * squared Euclidean distance (\"L2\");\n",
    "\t  * Chebyshev distance (\"inf\").\n",
    "\n",
    "    :param data: (d)-sized Numpy array (1 dimension)\n",
    "\t:param query: Query vector\n",
    "\t:param norm: indicate the type of distance chosen. L1, L2, inf\n",
    "\t:type data: Numpy array/list of floats\n",
    "\t:type query: (m)-sized Numpy array of floats\n",
    "    :return: (d)-sized Numpy array of all the distances between elements in data and the query\n",
    "    \"\"\"\n",
    "    norm_function = norms[norm]\n",
    "    distances = np.zeros(shape=len(data), dtype=np.float32)\n",
    "    for i, d in enumerate(data):\n",
    "        distances[i] = norm_function(d - query)\n",
    "    return distances\n",
    "\n",
    "\n",
    "def compute_distance_2d(data, q, norm='L2'):\n",
    "    \"\"\"Compute distances in 2D.\n",
    "    Computes the distance between a dataset in 2D (array of array) and a query\n",
    "    :param data: (n,d)-sized Numpy array (2 dimensions). (n) lines and (d) columns\n",
    "\t:param query: Query vector\n",
    "\t:param norm: indicate the type of distance chosen. L1, L2, inf\n",
    "\t:type data: Numpy array in 2 dimensions\n",
    "\t:type query: (m)-sized Numpy array of floats\n",
    "    :return: (n,d)-sized Numpy array of all the distances between elements in a row of dataset\n",
    "    and the query for each rows in dataset\n",
    "    \"\"\"\n",
    "    total_array_q = np.zeros(dtype=object, shape=273)\n",
    "    for i, person in enumerate(data):\n",
    "        distances = compute_distance_1d(person, q, norm)\n",
    "        total_array_q[i] = distances\n",
    "    return total_array_q\n"
   ],
   "metadata": {
    "collapsed": false,
    "pycharm": {
     "name": "#%%\n"
    }
   }
  },
  {
   "cell_type": "code",
   "execution_count": null,
   "outputs": [],
   "source": [
    "res = compute_distance_2d(gallery_pictures,probe_pictures[0])\n",
    "print(res)"
   ],
   "metadata": {
    "collapsed": false,
    "pycharm": {
     "name": "#%%\n"
    }
   }
  }
 ],
 "metadata": {
  "kernelspec": {
   "display_name": "Python 3",
   "language": "python",
   "name": "python3"
  },
  "language_info": {
   "codemirror_mode": {
    "name": "ipython",
    "version": 3
   },
   "file_extension": ".py",
   "mimetype": "text/x-python",
   "name": "python",
   "nbconvert_exporter": "python",
   "pygments_lexer": "ipython3",
   "version": "3.8.3"
  }
 },
 "nbformat": 4,
 "nbformat_minor": 1
}