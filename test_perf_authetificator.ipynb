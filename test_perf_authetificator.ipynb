{
 "cells": [
  {
   "cell_type": "code",
   "execution_count": 1,
   "metadata": {
    "collapsed": true,
    "pycharm": {
     "name": "#%%\n"
    }
   },
   "outputs": [],
   "source": [
    "from authenticator import Authenticator\n",
    "from gallery_probes_generator import GalleryProbesGenerator\n",
    "from eigenface_generator import EigenfaceGenerator\n",
    "import pandas as pd\n",
    "import time"
   ]
  },
  {
   "cell_type": "code",
   "execution_count": 2,
   "outputs": [],
   "source": [
    "dict_results = [{\"accuracy\": list(), \"precision\" : list(), \"recall\" : list(), \"specificity\" : list(), \"time\": list()} for _ in range(2)]\n"
   ],
   "metadata": {
    "collapsed": false,
    "pycharm": {
     "name": "#%%\n"
    }
   }
  },
  {
   "cell_type": "code",
   "execution_count": 3,
   "outputs": [],
   "source": [
    "gallery_probes1 = GalleryProbesGenerator(path_to_dataset='data/dataset1/', probes_length=200)\n",
    "eigen_faces1 = EigenfaceGenerator(data_generator=gallery_probes1, components=500)"
   ],
   "metadata": {
    "collapsed": false,
    "pycharm": {
     "name": "#%%\n"
    }
   }
  },
  {
   "cell_type": "code",
   "execution_count": 4,
   "outputs": [
    {
     "name": "stdout",
     "output_type": "stream",
     "text": [
      "TP: 99\n",
      "FP: 3\n",
      "TN: 97\n",
      "FN: 1\n"
     ]
    }
   ],
   "source": [
    "authenticator1 = Authenticator(gallery_probes1, eigen_faces1)\n",
    "start = time.time()\n",
    "result_all_probes1 = authenticator1.authenticate_all_probes(authenticator1.gallery_pictures, authenticator1.probe_pictures, authenticator1.radius_optimal)\n",
    "end = time.time()\n",
    "accuracy, precision, recall, specificity = authenticator1.compute_metrics(result_all_probes1)\n",
    "\n",
    "dict_results[0][\"accuracy\"].append(accuracy)\n",
    "dict_results[0][\"precision\"].append(precision)\n",
    "dict_results[0][\"recall\"].append(recall)\n",
    "dict_results[0][\"specificity\"].append(specificity)\n",
    "dict_results[0][\"time\"].append(end-start)\n"
   ],
   "metadata": {
    "collapsed": false,
    "pycharm": {
     "name": "#%%\n"
    }
   }
  },
  {
   "cell_type": "code",
   "execution_count": 5,
   "outputs": [
    {
     "name": "stdout",
     "output_type": "stream",
     "text": [
      "TP: 83\n",
      "FP: 0\n",
      "TN: 100\n",
      "FN: 17\n"
     ]
    }
   ],
   "source": [
    "start = time.time()\n",
    "result_all_probes_eigen1 = authenticator1.authenticate_all_probes(authenticator1.gallery_eigenface_pictures, authenticator1.probes_eigenface_pictures, authenticator1.radius_optimal_eigenfaces)\n",
    "end = time.time()\n",
    "accuracy_eigen, precision_eigen, recall_eigen, specificity_eigen = authenticator1.compute_metrics(result_all_probes_eigen1)\n",
    "\n",
    "dict_results[0][\"accuracy\"].append(accuracy_eigen)\n",
    "dict_results[0][\"precision\"].append(precision_eigen)\n",
    "dict_results[0][\"recall\"].append(recall_eigen)\n",
    "dict_results[0][\"specificity\"].append(specificity_eigen)\n",
    "dict_results[0][\"time\"].append(end-start)\n"
   ],
   "metadata": {
    "collapsed": false,
    "pycharm": {
     "name": "#%%\n"
    }
   }
  },
  {
   "cell_type": "code",
   "execution_count": 6,
   "outputs": [],
   "source": [
    "gallery_probes2 = GalleryProbesGenerator(path_to_dataset='data/dataset2/', probes_length=200)\n",
    "eigen_faces2 = EigenfaceGenerator(data_generator=gallery_probes2, components=500)"
   ],
   "metadata": {
    "collapsed": false,
    "pycharm": {
     "name": "#%%\n"
    }
   }
  },
  {
   "cell_type": "code",
   "execution_count": 7,
   "outputs": [
    {
     "name": "stderr",
     "output_type": "stream",
     "text": [
      "/home/bastien/.local/lib/python3.8/site-packages/numpy/core/fromnumeric.py:3372: RuntimeWarning: Mean of empty slice.\n",
      "  return _methods._mean(a, axis=axis, dtype=dtype,\n",
      "/home/bastien/.local/lib/python3.8/site-packages/numpy/core/_methods.py:170: RuntimeWarning: invalid value encountered in double_scalars\n",
      "  ret = ret.dtype.type(ret / rcount)\n"
     ]
    },
    {
     "name": "stdout",
     "output_type": "stream",
     "text": [
      "TP: 66\n",
      "FP: 2\n",
      "TN: 98\n",
      "FN: 34\n"
     ]
    }
   ],
   "source": [
    "authenticator2 = Authenticator(gallery_probes2, eigen_faces2)\n",
    "start = time.time()\n",
    "result_all_probes2 = authenticator2.authenticate_all_probes(authenticator2.gallery_pictures, authenticator2.probe_pictures, authenticator1.radius_optimal)\n",
    "end = time.time()\n",
    "accuracy, precision, recall, specificity = authenticator2.compute_metrics(result_all_probes2)\n",
    "\n",
    "dict_results[1][\"accuracy\"].append(accuracy)\n",
    "dict_results[1][\"precision\"].append(precision)\n",
    "dict_results[1][\"recall\"].append(recall)\n",
    "dict_results[1][\"specificity\"].append(specificity)\n",
    "dict_results[1][\"time\"].append(end-start)"
   ],
   "metadata": {
    "collapsed": false,
    "pycharm": {
     "name": "#%%\n"
    }
   }
  },
  {
   "cell_type": "code",
   "execution_count": 8,
   "outputs": [
    {
     "name": "stdout",
     "output_type": "stream",
     "text": [
      "TP: 13\n",
      "FP: 1\n",
      "TN: 100\n",
      "FN: 86\n"
     ]
    }
   ],
   "source": [
    "start = time.time()\n",
    "result_all_probes_eigen2 = authenticator2.authenticate_all_probes(authenticator2.gallery_eigenface_pictures, authenticator2.probes_eigenface_pictures, authenticator1.radius_optimal_eigenfaces)\n",
    "end = time.time()\n",
    "accuracy_eigen, precision_eigen, recall_eigen, specificity_eigen = authenticator2.compute_metrics(result_all_probes_eigen2)\n",
    "dict_results[1][\"accuracy\"].append(accuracy_eigen)\n",
    "dict_results[1][\"precision\"].append(precision_eigen)\n",
    "dict_results[1][\"recall\"].append(recall_eigen)\n",
    "dict_results[1][\"specificity\"].append(specificity_eigen)\n",
    "dict_results[1][\"time\"].append(end-start)"
   ],
   "metadata": {
    "collapsed": false,
    "pycharm": {
     "name": "#%%\n"
    }
   }
  },
  {
   "cell_type": "code",
   "execution_count": 9,
   "outputs": [
    {
     "name": "stdout",
     "output_type": "stream",
     "text": [
      "   accuracy  precision  recall  specificity       time\n",
      "0     0.980   0.970588    0.99         0.97  43.375949\n",
      "1     0.915   1.000000    0.83         1.00  10.355385\n",
      "   accuracy  precision    recall  specificity       time\n",
      "0     0.820   0.970588  0.660000     0.980000  50.111908\n",
      "1     0.565   0.928571  0.131313     0.990099  13.239491\n"
     ]
    }
   ],
   "source": [
    "data_set_1 = dict_results[0]\n",
    "print(pd.DataFrame(data_set_1))\n",
    "data_set_2 = dict_results[1]\n",
    "print(pd.DataFrame(data_set_2))\n"
   ],
   "metadata": {
    "collapsed": false,
    "pycharm": {
     "name": "#%%\n"
    }
   }
  }
 ],
 "metadata": {
  "kernelspec": {
   "name": "pycharm-b574e03b",
   "language": "python",
   "display_name": "PyCharm (scientificProject)"
  },
  "language_info": {
   "codemirror_mode": {
    "name": "ipython",
    "version": 2
   },
   "file_extension": ".py",
   "mimetype": "text/x-python",
   "name": "python",
   "nbconvert_exporter": "python",
   "pygments_lexer": "ipython2",
   "version": "2.7.6"
  }
 },
 "nbformat": 4,
 "nbformat_minor": 0
}