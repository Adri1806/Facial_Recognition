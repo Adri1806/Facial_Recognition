{
 "cells": [
  {
   "cell_type": "code",
   "execution_count": 1,
   "metadata": {
    "collapsed": true
   },
   "outputs": [],
   "source": [
    "import numpy as np\n",
    "from gallery_probes_generator import GalleryProbesGenerator\n"
   ]
  },
  {
   "cell_type": "code",
   "execution_count": 2,
   "outputs": [],
   "source": [
    "data_generator = GalleryProbesGenerator(path_to_dataset='data/dataset1/', probes_length=200)\n",
    "\n",
    "probe_registered_names, probe_registered_pictures = data_generator.get_registered_probes()\n",
    "probe_unregistered_names, probe_unregistered_pictures = data_generator.get_unregistered_probes()\n",
    "gallery_names, gallery_pictures = data_generator.get_gallery()"
   ],
   "metadata": {
    "collapsed": false,
    "pycharm": {
     "name": "#%%\n"
    }
   }
  },
  {
   "cell_type": "code",
   "execution_count": 4,
   "outputs": [
    {
     "name": "stdout",
     "output_type": "stream",
     "text": [
      "Le fichier probe_name a été crée correctement\n",
      "Le fichier probe_name a été crée correctement\n"
     ]
    }
   ],
   "source": [
    "probe_names = np.concatenate((probe_registered_names,probe_unregistered_names))\n",
    "probe_pictures = np.concatenate((probe_registered_pictures,probe_unregistered_pictures))\n",
    "\n",
    "if np.array_equal(probe_names[0:100],probe_registered_names) and np.array_equal(probe_names[100:200],probe_unregistered_names):\n",
    "    print('Le fichier probe_names a été crée correctement')\n",
    "\n",
    "if np.array_equal(probe_pictures[0:100],probe_registered_pictures) and np.array_equal(probe_pictures[100:200],probe_unregistered_pictures):\n",
    "    print('Le fichier probe_pictures a été crée correctement')\n"
   ],
   "metadata": {
    "collapsed": false,
    "pycharm": {
     "name": "#%%\n"
    }
   }
  },
  {
   "cell_type": "code",
   "execution_count": 8,
   "outputs": [
    {
     "ename": "SyntaxError",
     "evalue": "invalid syntax (<ipython-input-8-6b88c30927b4>, line 2)",
     "output_type": "error",
     "traceback": [
      "\u001B[1;36m  File \u001B[1;32m\"<ipython-input-8-6b88c30927b4>\"\u001B[1;36m, line \u001B[1;32m2\u001B[0m\n\u001B[1;33m    groundtruth = np.array([True for i<100), False for 100 <= i < 200])\u001B[0m\n\u001B[1;37m                                      ^\u001B[0m\n\u001B[1;31mSyntaxError\u001B[0m\u001B[1;31m:\u001B[0m invalid syntax\n"
     ]
    }
   ],
   "source": [],
   "metadata": {
    "collapsed": false,
    "pycharm": {
     "name": "#%%\n"
    }
   }
  }
 ],
 "metadata": {
  "kernelspec": {
   "display_name": "Python 3",
   "language": "python",
   "name": "python3"
  },
  "language_info": {
   "codemirror_mode": {
    "name": "ipython",
    "version": 2
   },
   "file_extension": ".py",
   "mimetype": "text/x-python",
   "name": "python",
   "nbconvert_exporter": "python",
   "pygments_lexer": "ipython2",
   "version": "2.7.6"
  }
 },
 "nbformat": 4,
 "nbformat_minor": 0
}