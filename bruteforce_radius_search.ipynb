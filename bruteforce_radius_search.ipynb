{
 "cells": [
  {
   "cell_type": "code",
   "execution_count": 1,
   "metadata": {},
   "outputs": [],
   "source": [
    "import numpy as np\n",
    "from gallery_probes_generator import GalleryProbesGenerator"
   ]
  },
  {
   "cell_type": "code",
   "execution_count": 2,
   "metadata": {
    "pycharm": {
     "name": "#%%\n"
    }
   },
   "outputs": [
    {
     "name": "stdout",
     "output_type": "stream",
     "text": [
      "Le fichier probe_names a été crée correctement\n",
      "Le fichier probe_pictures a été crée correctement\n"
     ]
    }
   ],
   "source": [
    "data_generator = GalleryProbesGenerator(path_to_dataset='data/dataset1/', probes_length=200)\n",
    "\n",
    "gallery_names, gallery_pictures = data_generator.get_gallery()\n",
    "probe_names, probe_pictures = data_generator.generate_probes_total() #changer qd la methode get_probe_total ready\n"
   ]
  },
  {
   "cell_type": "code",
   "execution_count": 3,
   "metadata": {
    "pycharm": {
     "name": "#%%\n"
    }
   },
   "outputs": [],
   "source": [
    "norms = { \"L1\":lambda x: np.sum(np.abs(x)),\n",
    "\t  \"L2\":lambda x: np.sum(x**2),\n",
    "\t  \"inf\":lambda x: np.max(np.abs(x))\n",
    "\t}\n",
    "\n",
    "def compute_distances_individual(data, query, norm=\"L2\"):\n",
    "\t\"\"\" Compute distances.\n",
    "\n",
    "\tComputes the distances between the vectors (rows) of a dataset and a\n",
    "\tsingle query). Three distances are supported:\n",
    "\t  * Manhattan distance (\"L1\");\n",
    "\t  * squared Euclidean distance (\"L2\");\n",
    "\t  * Chebyshev distance (\"inf\").\n",
    "\n",
    "\t:param data: Dataset matrix with samples as rows.\n",
    "\t:param query: Query vector\n",
    "\t:type data: (n,d)-sized Numpy array of floats\n",
    "\t:type query: (d)-sized Numpy array of floats\n",
    "\n",
    "\t:result: The distances of the data vectors to the query.\n",
    "\t:rtype: (n)-sized Numpy array of floats\n",
    "\t\"\"\"\n",
    "\tnorm_function = norms[norm]\n",
    "\tdistances = np.zeros((len(data),), dtype=np.float32)\n",
    "\tfor i, d in enumerate(data):\n",
    "\t\tdistances[i] = norm_function(d-query)\n",
    "\treturn distances\n",
    "\n",
    "def compute_distance(gallery_pictures, probe_pictures, norm='L2'):\n",
    "    total_array_distance = np.zeros(dtype=object, shape=200)\n",
    "    for i, pic, in enumerate(probe_pictures):\n",
    "        total_array_q = np.zeros(dtype=object, shape=273)\n",
    "        for j, n in enumerate(gallery_pictures):\n",
    "            total_array_q[j] = compute_distances_individual(n,pic)\n",
    "        total_array_distance[i] = total_array_q\n",
    "\n",
    "    return total_array_distance"
   ]
  },
  {
   "cell_type": "code",
   "execution_count": 4,
   "metadata": {
    "pycharm": {
     "name": "#%%\n"
    }
   },
   "outputs": [
    {
     "name": "stdout",
     "output_type": "stream",
     "text": [
      "gstamo\n",
      "9332898\n",
      "moyenne main:2285520.75\n",
      "[2278883. 2264714. 2306649. 2307400. 2293702. 2288282. 2303983. 2300749.\n",
      " 2288304. 2271545. 2300199. 2293443. 2311852. 2262296. 2257464. 2296268.\n",
      " 2273534. 2253118. 2273252. 2284781.]\n"
     ]
    }
   ],
   "source": [
    "#test\n",
    "id_probe = 0\n",
    "id_gallery = 0\n",
    "probe_pictures_q = probe_pictures[id_probe]\n",
    "print(probe_names[id_probe])\n",
    "\n",
    "gallery_pictures_list = gallery_pictures[id_gallery]\n",
    "print(gallery_names[id_gallery])\n",
    "\n",
    "distance_test = compute_distances_individual(gallery_pictures_list,probe_pictures_q)\n",
    "print(f\"moyenne main:{np.mean(distance_test)}\")\n",
    "print(distance_test)"
   ]
  },
  {
   "cell_type": "code",
   "execution_count": 6,
   "metadata": {
    "pycharm": {
     "name": "#%%\n"
    },
    "scrolled": true
   },
   "outputs": [
    {
     "name": "stdout",
     "output_type": "stream",
     "text": [
      "(200,)\n"
     ]
    }
   ],
   "source": [
    "distance = compute_distance(gallery_pictures,probe_pictures)\n",
    "print(distance.shape)"
   ]
  }
 ],
 "metadata": {
  "kernelspec": {
   "display_name": "Python 3",
   "language": "python",
   "name": "python3"
  },
  "language_info": {
   "codemirror_mode": {
    "name": "ipython",
    "version": 3
   },
   "file_extension": ".py",
   "mimetype": "text/x-python",
   "name": "python",
   "nbconvert_exporter": "python",
   "pygments_lexer": "ipython3",
   "version": "3.8.3"
  }
 },
 "nbformat": 4,
 "nbformat_minor": 1
}