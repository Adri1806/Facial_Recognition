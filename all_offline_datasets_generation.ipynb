{
 "cells": [
  {
   "cell_type": "code",
   "execution_count": 1,
   "metadata": {
    "collapsed": true
   },
   "outputs": [],
   "source": [
    "import matplotlib.pyplot as plt\n",
    "from eigenface_generator import EigenfaceGenerator\n",
    "from gallery_probes_generator import GalleryProbesGenerator"
   ]
  },
  {
   "cell_type": "code",
   "execution_count": 2,
   "outputs": [],
   "source": [
    "data_generator = GalleryProbesGenerator(path_to_dataset='data/dataset1/', probes_length=200)\n",
    "\n",
    "data_generator.generate_npy_files()\n",
    "\n",
    "gallery_names, gallery_pictures = data_generator.get_gallery()\n",
    "probe_merged_names, probe_merged_pictures = data_generator.get_merged_probes()\n",
    "ground_truth = data_generator.get_ground_truth()"
   ],
   "metadata": {
    "collapsed": false,
    "pycharm": {
     "name": "#%%\n"
    }
   }
  },
  {
   "cell_type": "code",
   "execution_count": 3,
   "outputs": [],
   "source": [
    "for i, id_gallery in enumerate(ground_truth[:100]):\n",
    "    if probe_merged_names[i] != gallery_names[id_gallery[1]]:\n",
    "        print(f\"Probes nb {i} : {probe_merged_names[i]} != gallery_names[id_gallery]\")\n",
    "\n",
    "    # probe_pic = plt.imshow(probe_merged_pictures[i], cmap=\"gray\")\n",
    "    # plt.show()\n",
    "    # gallery_pic = plt.imshow(gallery_pictures[id_gallery[1]][0], cmap=\"gray\")\n",
    "    # plt.show()\n"
   ],
   "metadata": {
    "collapsed": false,
    "pycharm": {
     "name": "#%%\n"
    }
   }
  },
  {
   "cell_type": "code",
   "execution_count": 4,
   "outputs": [
    {
     "name": "stdout",
     "output_type": "stream",
     "text": [
      "Variance kept :0.9806519950355381\n",
      "Computing eigenfaces...\n",
      "Saving eigen_faces and mean_face in data/dataset1//eigen_faces_npy\n",
      "_generate_eigenface() ok\n",
      "Computing new gallery with eignface...\n",
      "Saving gallery_eigenface_pictures in data/dataset1//eigen_faces_npy\n",
      "_generate_eigenface_gallery_pictures() ok\n",
      "Saving probes_eigenface_pictures in data/dataset1//eigen_faces_npy\n",
      "_generate_eigenface_probes_pictures() ok\n"
     ]
    }
   ],
   "source": [
    "eigenfacegenerator = EigenfaceGenerator(data_generator=data_generator, components=500)\n",
    "\n",
    "eigenfacegenerator.generate_npy_files()\n",
    "\n",
    "gallery_eigenface_pictures = eigenfacegenerator.get_gallery_picture_eigenface()\n",
    "probes_eigenface_pictures = eigenfacegenerator.get_probes_pictures_eigenface()\n",
    "eigen_faces, mean_face = eigenfacegenerator.get_eigenfaces()"
   ],
   "metadata": {
    "collapsed": false,
    "pycharm": {
     "name": "#%%\n"
    }
   }
  }
 ],
 "metadata": {
  "kernelspec": {
   "name": "pycharm-b574e03b",
   "language": "python",
   "display_name": "PyCharm (scientificProject)"
  },
  "language_info": {
   "codemirror_mode": {
    "name": "ipython",
    "version": 2
   },
   "file_extension": ".py",
   "mimetype": "text/x-python",
   "name": "python",
   "nbconvert_exporter": "python",
   "pygments_lexer": "ipython2",
   "version": "2.7.6"
  }
 },
 "nbformat": 4,
 "nbformat_minor": 0
}