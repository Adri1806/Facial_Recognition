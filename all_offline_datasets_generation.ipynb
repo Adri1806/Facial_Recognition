{
 "cells": [
  {
   "cell_type": "code",
   "execution_count": 6,
   "metadata": {
    "collapsed": true
   },
   "outputs": [],
   "source": [
    "import matplotlib.pyplot as plt\n",
    "from eigenface_generator import EigenfaceGenerator\n",
    "from gallery_probes_generator import GalleryProbesGenerator"
   ]
  },
  {
   "cell_type": "code",
   "execution_count": 7,
   "outputs": [],
   "source": [
    "data_generator = GalleryProbesGenerator(path_to_dataset='data/dataset1/', probes_length=200)\n",
    "\n",
    "data_generator.generate_npy_files()\n",
    "\n",
    "gallery_names, gallery_pictures = data_generator.get_gallery()\n",
    "probe_merged_names, probe_merged_pictures = data_generator.get_merged_probes()\n",
    "ground_truth = data_generator.get_ground_truth()"
   ],
   "metadata": {
    "collapsed": false,
    "pycharm": {
     "name": "#%%\n"
    }
   }
  },
  {
   "cell_type": "code",
   "execution_count": 8,
   "outputs": [],
   "source": [
    "for i, id_gallery in enumerate(ground_truth[:100]):\n",
    "    if probe_merged_names[i] != gallery_names[id_gallery[1]]:\n",
    "        print(f\"Probes nb {i} : {probe_merged_names[i]} != gallery_names[id_gallery]\")\n",
    "\n",
    "    # probe_pic = plt.imshow(probe_merged_pictures[i], cmap=\"gray\")\n",
    "    # plt.show()\n",
    "    # gallery_pic = plt.imshow(gallery_pictures[id_gallery[1]][0], cmap=\"gray\")\n",
    "    # plt.show()\n"
   ],
   "metadata": {
    "collapsed": false,
    "pycharm": {
     "name": "#%%\n"
    }
   }
  },
  {
   "cell_type": "code",
   "execution_count": 9,
   "outputs": [],
   "source": [
    "eigenfacegenerator = EigenfaceGenerator(data_generator=data_generator, components=500)"
   ],
   "metadata": {
    "collapsed": false,
    "pycharm": {
     "name": "#%%\n"
    }
   }
  },
  {
   "cell_type": "code",
   "execution_count": 10,
   "outputs": [
    {
     "ename": "MemoryError",
     "evalue": "Unable to allocate 922. MiB for an array with shape (5369, 22500) and data type float64",
     "output_type": "error",
     "traceback": [
      "\u001B[1;31m---------------------------------------------------------------------------\u001B[0m",
      "\u001B[1;31mMemoryError\u001B[0m                               Traceback (most recent call last)",
      "\u001B[1;32m<ipython-input-10-14f86137d57f>\u001B[0m in \u001B[0;36m<module>\u001B[1;34m\u001B[0m\n\u001B[1;32m----> 1\u001B[1;33m \u001B[0meigenfacegenerator\u001B[0m\u001B[1;33m.\u001B[0m\u001B[0mgenerate_npy_files\u001B[0m\u001B[1;33m(\u001B[0m\u001B[1;33m)\u001B[0m\u001B[1;33m\u001B[0m\u001B[1;33m\u001B[0m\u001B[0m\n\u001B[0m\u001B[0;32m      2\u001B[0m \u001B[1;33m\u001B[0m\u001B[0m\n",
      "\u001B[1;32mD:\\Documents\\Travail\\INGE2\\odata\\PROJET ODATA\\reconnaissance faciale\\eigenface_generator.py\u001B[0m in \u001B[0;36mgenerate_npy_files\u001B[1;34m(self)\u001B[0m\n\u001B[0;32m     28\u001B[0m             \u001B[0mos\u001B[0m\u001B[1;33m.\u001B[0m\u001B[0mmakedirs\u001B[0m\u001B[1;33m(\u001B[0m\u001B[0mself\u001B[0m\u001B[1;33m.\u001B[0m\u001B[0mpath_eigen_faces_npy\u001B[0m\u001B[1;33m)\u001B[0m\u001B[1;33m\u001B[0m\u001B[1;33m\u001B[0m\u001B[0m\n\u001B[0;32m     29\u001B[0m \u001B[1;33m\u001B[0m\u001B[0m\n\u001B[1;32m---> 30\u001B[1;33m         \u001B[0mself\u001B[0m\u001B[1;33m.\u001B[0m\u001B[0m_generate_eigenface\u001B[0m\u001B[1;33m(\u001B[0m\u001B[1;33m)\u001B[0m\u001B[1;33m\u001B[0m\u001B[1;33m\u001B[0m\u001B[0m\n\u001B[0m\u001B[0;32m     31\u001B[0m         \u001B[0mprint\u001B[0m\u001B[1;33m(\u001B[0m\u001B[1;34m'_generate_eigenface() ok'\u001B[0m\u001B[1;33m)\u001B[0m\u001B[1;33m\u001B[0m\u001B[1;33m\u001B[0m\u001B[0m\n\u001B[0;32m     32\u001B[0m         \u001B[0mself\u001B[0m\u001B[1;33m.\u001B[0m\u001B[0m_generate_eigenface_gallery_pictures\u001B[0m\u001B[1;33m(\u001B[0m\u001B[1;33m)\u001B[0m\u001B[1;33m\u001B[0m\u001B[1;33m\u001B[0m\u001B[0m\n",
      "\u001B[1;32mD:\\Documents\\Travail\\INGE2\\odata\\PROJET ODATA\\reconnaissance faciale\\eigenface_generator.py\u001B[0m in \u001B[0;36m_generate_eigenface\u001B[1;34m(self)\u001B[0m\n\u001B[0;32m     52\u001B[0m \u001B[1;33m\u001B[0m\u001B[0m\n\u001B[0;32m     53\u001B[0m         \u001B[1;31m# subtract mean face to every picture\u001B[0m\u001B[1;33m\u001B[0m\u001B[1;33m\u001B[0m\u001B[1;33m\u001B[0m\u001B[0m\n\u001B[1;32m---> 54\u001B[1;33m         \u001B[0mlinear_pictures_centered\u001B[0m \u001B[1;33m=\u001B[0m \u001B[0mlinear_pictures\u001B[0m \u001B[1;33m-\u001B[0m \u001B[0mmean_face\u001B[0m\u001B[1;33m\u001B[0m\u001B[1;33m\u001B[0m\u001B[0m\n\u001B[0m\u001B[0;32m     55\u001B[0m \u001B[1;33m\u001B[0m\u001B[0m\n\u001B[0;32m     56\u001B[0m         \u001B[1;31m# To make PCA faster, we transpose it -> each line is a pixel and each column is a face picture\u001B[0m\u001B[1;33m\u001B[0m\u001B[1;33m\u001B[0m\u001B[1;33m\u001B[0m\u001B[0m\n",
      "\u001B[1;31mMemoryError\u001B[0m: Unable to allocate 922. MiB for an array with shape (5369, 22500) and data type float64"
     ]
    }
   ],
   "source": [
    "eigenfacegenerator.generate_npy_files()"
   ],
   "metadata": {
    "collapsed": false,
    "pycharm": {
     "name": "#%%\n"
    }
   }
  },
  {
   "cell_type": "code",
   "execution_count": null,
   "outputs": [],
   "source": [
    "gallery_eigenface_pictures = eigenfacegenerator.get_gallery_picture_eigenface()\n",
    "probes_eigenface_pictures = eigenfacegenerator.get_probes_pictures_eigenface()\n",
    "eigen_faces, mean_face = eigenfacegenerator.get_eigenfaces()"
   ],
   "metadata": {
    "collapsed": false,
    "pycharm": {
     "name": "#%%\n"
    }
   }
  }
 ],
 "metadata": {
  "kernelspec": {
   "name": "pycharm-b574e03b",
   "language": "python",
   "display_name": "PyCharm (scientificProject)"
  },
  "language_info": {
   "codemirror_mode": {
    "name": "ipython",
    "version": 2
   },
   "file_extension": ".py",
   "mimetype": "text/x-python",
   "name": "python",
   "nbconvert_exporter": "python",
   "pygments_lexer": "ipython2",
   "version": "2.7.6"
  }
 },
 "nbformat": 4,
 "nbformat_minor": 0
}