{
 "cells": [
  {
   "cell_type": "code",
   "execution_count": 1,
   "metadata": {
    "collapsed": true
   },
   "outputs": [],
   "source": [
    "import matplotlib.pyplot as plt\n",
    "import matplotlib.image as mpimg\n",
    "import numpy as np\n",
    "import os"
   ]
  },
  {
   "cell_type": "code",
   "execution_count": 2,
   "metadata": {
    "pycharm": {
     "name": "#%%\n"
    }
   },
   "outputs": [],
   "source": [
    "path = 'data/dataset1/images'\n",
    "file_names = os.listdir(path)\n"
   ]
  },
  {
   "cell_type": "code",
   "execution_count": 4,
   "metadata": {
    "pycharm": {
     "name": "#%%\n"
    }
   },
   "outputs": [],
   "source": [
    "all_pictures_by_person = dict()\n",
    "\n",
    "for picture in file_names:\n",
    "    current_name = picture.split(\".\")[0]\n",
    "    if current_name not in all_pictures_by_person:\n",
    "        all_pictures_by_person[current_name] = list()\n",
    "    all_pictures_by_person[current_name].append(mpimg.imread(f'data/dataset1/images/{picture}'))"
   ]
  },
  {
   "cell_type": "code",
   "execution_count": 5,
   "outputs": [],
   "source": [
    "names_list = np.array(list(all_pictures_by_person.keys()), dtype=object)\n",
    "pictures_list = np.array(list(all_pictures_by_person.values()), dtype=object)"
   ],
   "metadata": {
    "collapsed": false,
    "pycharm": {
     "name": "#%%\n"
    }
   }
  },
  {
   "cell_type": "code",
   "execution_count": 6,
   "outputs": [
    {
     "name": "stdout",
     "output_type": "stream",
     "text": [
      "rgspru\n"
     ]
    }
   ],
   "source": [
    "if (all_pictures_by_person[\"rgspru\"][1] == pictures_list[0][1]).all():\n",
    "    print(names_list[0])\n",
    "else:\n",
    "    print(\"pas le bon\")"
   ],
   "metadata": {
    "collapsed": false,
    "pycharm": {
     "name": "#%%\n"
    }
   }
  }
 ],
 "metadata": {
  "kernelspec": {
   "display_name": "PyCharm (scientificProject)",
   "language": "python",
   "name": "pycharm-b574e03b"
  },
  "language_info": {
   "codemirror_mode": {
    "name": "ipython",
    "version": 3
   },
   "file_extension": ".py",
   "mimetype": "text/x-python",
   "name": "python",
   "nbconvert_exporter": "python",
   "pygments_lexer": "ipython3",
   "version": "3.8.5"
  }
 },
 "nbformat": 4,
 "nbformat_minor": 1
}